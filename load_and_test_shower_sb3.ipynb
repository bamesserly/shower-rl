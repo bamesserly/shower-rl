{
 "cells": [
  {
   "cell_type": "code",
   "execution_count": 38,
   "id": "87d303d9-2ff5-4b92-bfee-e17c2c14deb7",
   "metadata": {},
   "outputs": [
    {
     "name": "stdout",
     "output_type": "stream",
     "text": [
      "The autoreload extension is already loaded. To reload it, use:\n",
      "  %reload_ext autoreload\n"
     ]
    }
   ],
   "source": [
    "%load_ext autoreload\n",
    "%autoreload 2"
   ]
  },
  {
   "cell_type": "markdown",
   "id": "8ef4d6da-b654-45fb-9b9d-baf6eaa81afe",
   "metadata": {},
   "source": [
    "# Load old models that we trained in the other script (`train_shower_sb3`) and test them"
   ]
  },
  {
   "cell_type": "markdown",
   "id": "e54ed1cd-46c3-4586-bac9-d20719fc3cc5",
   "metadata": {},
   "source": [
    "## Setup"
   ]
  },
  {
   "cell_type": "code",
   "execution_count": 39,
   "id": "3631a91a-664c-4d23-9d77-0b7f2c81a22b",
   "metadata": {},
   "outputs": [],
   "source": [
    "from shower_environment import Shower\n",
    "from stable_baselines3 import PPO,A2C\n",
    "from stable_baselines3.common.callbacks import CheckpointCallback, EvalCallback\n",
    "import os\n",
    "from stable_baselines3.common.env_checker import check_env"
   ]
  },
  {
   "cell_type": "code",
   "execution_count": 40,
   "id": "95323580-6d9b-42a5-a861-f11ce3d9d8ab",
   "metadata": {},
   "outputs": [
    {
     "name": "stdout",
     "output_type": "stream",
     "text": [
      "Random valid temperature: 68\n",
      "Random valid temperature change: 0\n",
      "\n",
      "A few random showers:\n",
      "Episode: 1 Score: -50\n",
      "Episode: 2 Score: -60\n",
      "Episode: 3 Score: 18\n",
      "Episode: 4 Score: -60\n",
      "Episode: 5 Score: -60\n"
     ]
    }
   ],
   "source": [
    "env = Shower()\n",
    "\n",
    "print(\"Random valid temperature:\", env.observation_space.sample())\n",
    "print(\"Random valid temperature change:\", env.action_space.sample()-1)\n",
    "\n",
    "print(\"\\nA few random showers:\")\n",
    "episodes = 5\n",
    "for episode in range(1, episodes+1):\n",
    "    state = env.reset()\n",
    "    terminated = False\n",
    "    score = 0 \n",
    "    \n",
    "    while not terminated:\n",
    "        #env.render()\n",
    "        action = env.action_space.sample()\n",
    "        n_state, reward, terminated, truncated, info = env.step(action)\n",
    "        score+=reward\n",
    "    print(f\"Episode: {episode} Score: {score}\")"
   ]
  },
  {
   "cell_type": "markdown",
   "id": "dd530ccd-ba4d-406c-9882-3d5c02c4d5c9",
   "metadata": {},
   "source": [
    "## Load & Test old models"
   ]
  },
  {
   "cell_type": "markdown",
   "id": "8c1f3cc3-1fde-47ca-b7f7-1112e89bc293",
   "metadata": {},
   "source": [
    "### PPO"
   ]
  },
  {
   "cell_type": "code",
   "execution_count": 46,
   "id": "3f6ca1d5-504f-44d5-9234-6fbe07231def",
   "metadata": {},
   "outputs": [
    {
     "name": "stdout",
     "output_type": "stream",
     "text": [
      "Wrapping the env with a `Monitor` wrapper\n",
      "Wrapping the env in a DummyVecEnv.\n",
      "Episode: 1 Score: 52\n",
      "Episode: 2 Score: 46\n",
      "Episode: 3 Score: 58\n",
      "Episode: 4 Score: 60\n",
      "Episode: 5 Score: 60\n"
     ]
    }
   ],
   "source": [
    "env.reset()\n",
    "model_path = f\"models/PPO/best_model.zip\"\n",
    "model = PPO.load(model_path, env=env)\n",
    "check_env(env)\n",
    "episodes = 5\n",
    "for episode in range(1, episodes+1):\n",
    "    state, info = env.reset()\n",
    "    terminated = False\n",
    "    score = 0 \n",
    "    while not terminated:\n",
    "        action, _ = model.predict(state, deterministic=True)\n",
    "        state, reward, terminated, truncated, info = env.step(action)\n",
    "        score+=reward\n",
    "    print(f\"Episode: {episode} Score: {score}\")"
   ]
  },
  {
   "cell_type": "markdown",
   "id": "c9cff609-3124-4e39-9607-5e1a2ec23191",
   "metadata": {},
   "source": [
    "### A2C"
   ]
  },
  {
   "cell_type": "code",
   "execution_count": 49,
   "id": "a4f086a9-3c51-4c1a-a7c2-59c656f7694d",
   "metadata": {},
   "outputs": [
    {
     "name": "stdout",
     "output_type": "stream",
     "text": [
      "Wrapping the env with a `Monitor` wrapper\n",
      "Wrapping the env in a DummyVecEnv.\n",
      "Episode: 1 Score: 58\n",
      "Episode: 2 Score: 56\n",
      "Episode: 3 Score: 58\n",
      "Episode: 4 Score: 54\n",
      "Episode: 5 Score: 60\n"
     ]
    }
   ],
   "source": [
    "env.reset()\n",
    "model_path = f\"models/A2C/best_model.zip\"\n",
    "model = A2C.load(model_path, env=env)\n",
    "check_env(env)\n",
    "episodes = 5\n",
    "for episode in range(1, episodes+1):\n",
    "    state, info = env.reset()\n",
    "    terminated = False\n",
    "    score = 0 \n",
    "    while not terminated:\n",
    "        action, _ = model.predict(state, deterministic=True)\n",
    "        state, reward, terminated, truncated, info = env.step(action)\n",
    "        score+=reward\n",
    "    print(f\"Episode: {episode} Score: {score}\")"
   ]
  },
  {
   "cell_type": "markdown",
   "id": "09c4e60e-ee9c-4201-b2c8-c82dd117e778",
   "metadata": {},
   "source": [
    "Neither of these really perform as well as the Q-table that we trained with the Bellman equation!"
   ]
  },
  {
   "cell_type": "code",
   "execution_count": null,
   "id": "37872544-c441-4e65-85a4-0420a7e36d17",
   "metadata": {},
   "outputs": [],
   "source": []
  }
 ],
 "metadata": {
  "kernelspec": {
   "display_name": "Python 3 (ipykernel)",
   "language": "python",
   "name": "python3"
  },
  "language_info": {
   "codemirror_mode": {
    "name": "ipython",
    "version": 3
   },
   "file_extension": ".py",
   "mimetype": "text/x-python",
   "name": "python",
   "nbconvert_exporter": "python",
   "pygments_lexer": "ipython3",
   "version": "3.10.13"
  }
 },
 "nbformat": 4,
 "nbformat_minor": 5
}
